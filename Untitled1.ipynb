{
 "cells": [
  {
   "cell_type": "code",
   "execution_count": 1,
   "id": "c967415e",
   "metadata": {},
   "outputs": [
    {
     "name": "stdout",
     "output_type": "stream",
     "text": [
      "b\n",
      "a\n",
      "n\n",
      "a\n",
      "n\n",
      "a\n"
     ]
    }
   ],
   "source": [
    "for x in \"banana\":\n",
    "  print(x)"
   ]
  },
  {
   "cell_type": "code",
   "execution_count": 45,
   "id": "84405d55",
   "metadata": {},
   "outputs": [
    {
     "name": "stdout",
     "output_type": "stream",
     "text": [
      "bandra,mumbai\n"
     ]
    }
   ],
   "source": [
    "input_str=\"bmaunmdbraai\"\n",
    "message1 = input_str[0:-1:2]\n",
    "message2 = input_str[1:len(input_str):2]\n",
    "print(message1.strip('#') + \",\" + message2.strip('#'))\n"
   ]
  },
  {
   "cell_type": "code",
   "execution_count": 41,
   "id": "685e165a",
   "metadata": {},
   "outputs": [
    {
     "name": "stdout",
     "output_type": "stream",
     "text": [
      "0\n",
      "1\n",
      "2\n",
      "3\n",
      "4\n",
      "5\n"
     ]
    }
   ],
   "source": [
    "x = range(6)\n",
    "for n in x:\n",
    "  print(n)"
   ]
  },
  {
   "cell_type": "code",
   "execution_count": 57,
   "id": "cb092f9d",
   "metadata": {},
   "outputs": [
    {
     "data": {
      "text/plain": [
       "('Oreily', 'Pearson')"
      ]
     },
     "execution_count": 57,
     "metadata": {},
     "output_type": "execute_result"
    }
   ],
   "source": [
    "L = [\"Chemistry\", \"Biology\", [1989, 2004], (\"Oreily\", \"Pearson\")]\n",
    "L[0]\n",
    "L[3][0:2]"
   ]
  },
  {
   "cell_type": "code",
   "execution_count": 61,
   "id": "2e15702f",
   "metadata": {},
   "outputs": [
    {
     "name": "stdout",
     "output_type": "stream",
     "text": [
      "['five', 'four', 'one', 'six', 'three', 'two']\n",
      "['one', 'two', 'three', 'four', 'five', 'six']\n"
     ]
    }
   ],
   "source": [
    "L = ['one','two','three', 'four', 'five', 'six']\n",
    "print(sorted(L))\n",
    "print (L)"
   ]
  },
  {
   "cell_type": "code",
   "execution_count": 70,
   "id": "6b99da83",
   "metadata": {},
   "outputs": [
    {
     "name": "stdout",
     "output_type": "stream",
     "text": [
      "Pythons syntax is easy to learn & Pythons syntax is very clear\n"
     ]
    }
   ],
   "source": [
    "input_str = ['Pythons syntax is easy to learn', 'Pythons syntax is very clear']\n",
    "#Type your answer here\n",
    "string_1= input_str[0]+' & '+ input_str[1]\n",
    "print(string_1)"
   ]
  },
  {
   "cell_type": "code",
   "execution_count": 71,
   "id": "3421621f",
   "metadata": {},
   "outputs": [
    {
     "name": "stdout",
     "output_type": "stream",
     "text": [
      "Ravi\n",
      "Kumar\n",
      "003\n"
     ]
    }
   ],
   "source": [
    "input_str='Kumar_Ravi_003'\n",
    "input_list=input_str.split('_')\n",
    "first_name = input_list[1]\n",
    "second_name =input_list[0]\n",
    "customer_code =input_list[2]\n",
    "print(first_name)\n",
    "print(second_name)\n",
    "print(customer_code)"
   ]
  },
  {
   "cell_type": "code",
   "execution_count": null,
   "id": "544ce6fd",
   "metadata": {},
   "outputs": [],
   "source": []
  }
 ],
 "metadata": {
  "kernelspec": {
   "display_name": "Python 3",
   "language": "python",
   "name": "python3"
  },
  "language_info": {
   "codemirror_mode": {
    "name": "ipython",
    "version": 3
   },
   "file_extension": ".py",
   "mimetype": "text/x-python",
   "name": "python",
   "nbconvert_exporter": "python",
   "pygments_lexer": "ipython3",
   "version": "3.8.8"
  }
 },
 "nbformat": 4,
 "nbformat_minor": 5
}
